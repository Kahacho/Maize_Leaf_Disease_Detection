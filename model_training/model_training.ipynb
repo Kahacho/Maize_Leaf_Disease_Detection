{
 "cells": [
  {
   "cell_type": "code",
   "execution_count": 1,
   "id": "initial_id",
   "metadata": {
    "collapsed": true,
    "ExecuteTime": {
     "end_time": "2023-09-15T22:43:10.292054900Z",
     "start_time": "2023-09-15T22:43:07.260015700Z"
    }
   },
   "outputs": [],
   "source": [
    "from pathlib import Path\n",
    "from PIL import ImageFile\n",
    "\n",
    "import matplotlib.pyplot as plt\n",
    "import numpy as np\n",
    "import torch\n",
    "import torch.nn as nn\n",
    "import torch.optim as optim\n",
    "import torch.nn.functional as F\n",
    "from torchvision.transforms import transforms\n",
    "from torchvision.datasets import ImageFolder\n",
    "from torch.utils.data import DataLoader, random_split\n",
    "\n",
    "%matplotlib inline\n",
    "\n",
    "# To avoid PIL throwing the error \"OSError: image file is truncated\". \n",
    "ImageFile.LOAD_TRUNCATED_IMAGES = True\n",
    "\n",
    "# Define the data path\n",
    "data_path = Path(\"__file__\").cwd() / \"maize_dataset\""
   ]
  },
  {
   "cell_type": "code",
   "execution_count": 2,
   "outputs": [
    {
     "name": "stdout",
     "output_type": "stream",
     "text": [
      "Data loaders ready!\n"
     ]
    }
   ],
   "source": [
    "class LoadDataset:\n",
    "    \"\"\"\n",
    "    Class to ingest data using training and test loaders. \n",
    "    \"\"\"\n",
    "\n",
    "    def __init__(self, data_path):\n",
    "        self.data_path = data_path\n",
    "        # Define Data Transformation\n",
    "        self.transformation = transforms.Compose([\n",
    "            # Resize to a common 128 * 128 image size\n",
    "            transforms.Resize(size=[128, 128]),\n",
    "            # Transform to tensors\n",
    "            transforms.ToTensor(),\n",
    "            # Normalize the pixel values (in R, G, and B channels)\n",
    "            transforms.Normalize(mean=[0.5, 0.5, 0.5], std=[0.5, 0.5, 0.5])\n",
    "        ])\n",
    "        # Load all the images, transforming them\n",
    "        self.full_dataset = ImageFolder(root=data_path, transform=self.transformation)\n",
    "\n",
    "    def data_classes(self):\n",
    "        \"\"\"Get the class and class index\"\"\"\n",
    "        classes = self.full_dataset.classes\n",
    "        classes_indx = self.full_dataset.class_to_idx\n",
    "\n",
    "        return classes, classes_indx\n",
    "\n",
    "    def data_loaders(self, train_size=0.7):\n",
    "        \"\"\" Get the iterative data loaders for test and training data \"\"\"\n",
    "\n",
    "        # Split into training (70%) and testing (30%) datasets\n",
    "        train_size = int(train_size * len(self.full_dataset))\n",
    "        test_size = len(self.full_dataset) - train_size\n",
    "        # generator = torch.manual_seed(42)  # Set the seed to ensure consistent results\n",
    "        train_dataset, test_dataset = random_split(dataset=self.full_dataset, \n",
    "                                                   lengths=[train_size, test_size],\n",
    "                                                   # generator=generator\n",
    "                                                   )\n",
    "\n",
    "        # Define a loader for the training data we can iterate through in 50-image batches\n",
    "        train_loader = DataLoader(dataset=train_dataset,\n",
    "                                  batch_size=50,\n",
    "                                  num_workers=0,\n",
    "                                  shuffle=False)\n",
    "\n",
    "        # Define a loader for the testing data we can iterate through in 50-image batches\n",
    "        test_loader = DataLoader(dataset=test_dataset,\n",
    "                                 batch_size=50,\n",
    "                                 num_workers=0,\n",
    "                                 shuffle=False)\n",
    "\n",
    "        return train_loader, test_loader \n",
    "    \n",
    "# Get the iterative data loaders for test and training data\n",
    "load_dataset = LoadDataset(data_path=data_path)\n",
    "train_loader, test_loader = load_dataset.data_loaders()\n",
    "classes, class_indexes = load_dataset.data_classes()\n",
    "print('Data loaders ready!')   "
   ],
   "metadata": {
    "collapsed": false,
    "ExecuteTime": {
     "end_time": "2023-09-15T22:43:10.412321700Z",
     "start_time": "2023-09-15T22:43:10.302574900Z"
    }
   },
   "id": "f89612619fe563d1"
  },
  {
   "cell_type": "code",
   "execution_count": 3,
   "outputs": [
    {
     "name": "stdout",
     "output_type": "stream",
     "text": [
      "CNN model class defined!\n"
     ]
    }
   ],
   "source": [
    "# Define a CNN Model\n",
    "class Net(nn.Module):\n",
    "    \"\"\" Create a neural net class \"\"\"\n",
    "    def __init__(self, num_classes=3):\n",
    "        # num_classes is 3 because we have 3 classes: Health, MLN, and MSV\n",
    "        super(Net, self).__init__()\n",
    "        \n",
    "        # Our images are RGB, so input_channels=3. \n",
    "        # We'll apply 12 filters in the first convolutional layer\n",
    "        self.conv1 = nn.Conv2d(in_channels=3,\n",
    "                               out_channels=12,\n",
    "                               kernel_size=3,\n",
    "                               stride=1,\n",
    "                               padding=1)\n",
    "        \n",
    "        # We'll apply max pooling with a kernel size of 2\n",
    "        self.pool = nn.MaxPool2d(kernel_size=2)\n",
    "        \n",
    "        # A second convolution layer takes 12 input channels, and generates 12 outputs\n",
    "        self.conv2 = nn.Conv2d(in_channels=12, \n",
    "                               out_channels=12,\n",
    "                               kernel_size=3,\n",
    "                               stride=1, \n",
    "                               padding=1)\n",
    "        \n",
    "        # A third convolutional layers takes 12 inputs and generates 24 outputs\n",
    "        self.conv3 = nn.Conv2d(in_channels=12,\n",
    "                               out_channels=24,\n",
    "                               kernel_size=3,\n",
    "                               stride=1,\n",
    "                               padding=1)\n",
    "        \n",
    "        # A drop layer deletes 20% of the features to help prevent overfitting\n",
    "        self.drop = nn.Dropout(p=0.2)\n",
    "        \n",
    "        # Our 128*128 image tensors will be pooled twice with a kernel size 0f 2. \n",
    "        # 128/2/2 is 32. So our feature tensors are now 32 * 32, and we have generated 24 of them. \n",
    "        # We need to flatten these and feed them to a fully-connected layer to map them to the probability of each class\n",
    "        self.fc = nn.Linear(in_features=32 * 32 * 24, out_features=num_classes)\n",
    "        \n",
    "    def forward(self, x):\n",
    "        # Use a ReLu activation function after layer 1 (convolution 1 and pool)\n",
    "        x = F.relu(self.pool(self.conv1(x)))\n",
    "        \n",
    "        # Use a ReLu activation function after layer 2 (convolution 2 and pool)\n",
    "        x = F.relu(self.pool(self.conv2(x)))\n",
    "        \n",
    "        # Select some features to drop after the 3rd convolution to prevent overfitting\n",
    "        x = F.relu(self.drop(self.conv3(x)))\n",
    "        \n",
    "        # Only drop the features if this is a training pass. \n",
    "        # By default, self.training flag is set to True, i.e. modules are in train mode by default\n",
    "        x = F.dropout(x, training=self.training)\n",
    "        \n",
    "        # Flatten\n",
    "        x = x.view(-1, 32 * 32 * 24)\n",
    "        \n",
    "        # Feed to fully-connected layer to predict class\n",
    "        x = self.fc(x)\n",
    "        \n",
    "        # Return log_softmax tensor\n",
    "        return F.log_softmax(x, dim=1)\n",
    "        \n",
    "print(\"CNN model class defined!\")"
   ],
   "metadata": {
    "collapsed": false,
    "ExecuteTime": {
     "end_time": "2023-09-15T22:43:10.414813600Z",
     "start_time": "2023-09-15T22:43:10.402309200Z"
    }
   },
   "id": "6b565be4330b60e1"
  },
  {
   "cell_type": "code",
   "execution_count": 4,
   "outputs": [],
   "source": [
    "def train(model, device, train_loader, optimizer, epoch):\n",
    "    # Set the model to training mode\n",
    "    model.train()\n",
    "    train_loss = 0\n",
    "    print(f\"Epoch: {epoch}\")\n",
    "    # Process the images in batches\n",
    "    for batch_idx, (data, target) in enumerate(train_loader):\n",
    "        # Use the CPU or GPU as appropriate\n",
    "        data, target = data.to(device), target.to(device)\n",
    "\n",
    "        # Reset the optimizer\n",
    "        optimizer.zero_grad()\n",
    "\n",
    "        # Push the data forward through the model layers\n",
    "        output = model(data)\n",
    "\n",
    "        # Get the loss\n",
    "        loss = loss_criteria(output, target)\n",
    "\n",
    "        # Keep a running total\n",
    "        train_loss += loss.item()\n",
    "\n",
    "        # Backpropagate\n",
    "        loss.backward()\n",
    "        optimizer.step()\n",
    "\n",
    "        # Print metrics for every 10 batches, so we see some progress\n",
    "        if batch_idx % 10 == 0:\n",
    "            print(\n",
    "                f\"Training set [{batch_idx * len(data)}/{len(train_loader.dataset)} \"\n",
    "                f\"({100. * batch_idx / len(train_loader):.0f}%)] Loss: {loss.item():.6F}\")\n",
    "\n",
    "    # Return average loss for the epoch\n",
    "    avg_loss = train_loss / (batch_idx + 1)\n",
    "    print(f\"Training set: Average loss: {avg_loss:.6f}\")\n",
    "\n",
    "    return avg_loss "
   ],
   "metadata": {
    "collapsed": false,
    "ExecuteTime": {
     "end_time": "2023-09-15T22:43:10.491344100Z",
     "start_time": "2023-09-15T22:43:10.414813600Z"
    }
   },
   "id": "80d5a51494794f88"
  },
  {
   "cell_type": "code",
   "execution_count": 5,
   "outputs": [],
   "source": [
    "def test(model, device, test_loader):\n",
    "    # Switch the model to evaluation mode (so we don't propagate or drop)\n",
    "    model.eval()\n",
    "    test_loss = 0\n",
    "    correct = 0\n",
    "    \n",
    "    # Context manager to disable gradient calculation\n",
    "    with torch.no_grad():\n",
    "        batch_count = 0\n",
    "        for data, target in test_loader:\n",
    "            batch_count += 1\n",
    "            data, target = data.to(device), target.to(device)\n",
    "            \n",
    "            # Get the predicted classes for this batch\n",
    "            output = model(data)\n",
    "            \n",
    "            # Calculate the loss for this batch\n",
    "            test_loss += loss_criteria(output, target).item()\n",
    "            \n",
    "            # Calculate the accuracy for this batch\n",
    "            _, predicted = torch.max(output.data, 1)\n",
    "            correct += torch.sum(target==predicted).item()\n",
    "    \n",
    "    # Calculate the average loss and total accuracy for this epoch\n",
    "    avg_loss = test_loss/batch_count\n",
    "    print(f\"Validation set: Average loss: {avg_loss:.6f}, \"\n",
    "          f\"Accuracy: {correct}/{len(test_loader.dataset)} \"\n",
    "          f\"({100. * correct / len(test_loader.dataset):.0f}%\\n)\")\n",
    "    \n",
    "    # Return average loss for the epoch\n",
    "    return  avg_loss"
   ],
   "metadata": {
    "collapsed": false,
    "ExecuteTime": {
     "end_time": "2023-09-15T22:43:10.507048500Z",
     "start_time": "2023-09-15T22:43:10.431496Z"
    }
   },
   "id": "9d1c221605f65cc6"
  },
  {
   "cell_type": "code",
   "execution_count": 6,
   "outputs": [
    {
     "name": "stdout",
     "output_type": "stream",
     "text": [
      "Using cuda device!\n",
      "Epoch: 1\n",
      "Training set [0/10745 (0%)] Loss: 1.101976\n",
      "Training set [500/10745 (5%)] Loss: 0.654041\n",
      "Training set [1000/10745 (9%)] Loss: 0.490546\n",
      "Training set [1500/10745 (14%)] Loss: 0.286136\n",
      "Training set [2000/10745 (19%)] Loss: 0.231362\n",
      "Training set [2500/10745 (23%)] Loss: 0.547564\n",
      "Training set [3000/10745 (28%)] Loss: 0.286908\n",
      "Training set [3500/10745 (33%)] Loss: 0.355069\n",
      "Training set [4000/10745 (37%)] Loss: 0.214291\n",
      "Training set [4500/10745 (42%)] Loss: 0.184764\n",
      "Training set [5000/10745 (47%)] Loss: 0.201827\n",
      "Training set [5500/10745 (51%)] Loss: 0.402445\n",
      "Training set [6000/10745 (56%)] Loss: 0.123965\n",
      "Training set [6500/10745 (60%)] Loss: 0.247232\n",
      "Training set [7000/10745 (65%)] Loss: 0.239964\n",
      "Training set [7500/10745 (70%)] Loss: 0.308061\n",
      "Training set [8000/10745 (74%)] Loss: 0.162422\n",
      "Training set [8500/10745 (79%)] Loss: 0.080545\n",
      "Training set [9000/10745 (84%)] Loss: 0.349652\n",
      "Training set [9500/10745 (88%)] Loss: 0.211322\n",
      "Training set [10000/10745 (93%)] Loss: 0.329453\n",
      "Training set [10500/10745 (98%)] Loss: 0.289829\n",
      "Training set: Average loss: 0.306328\n",
      "Validation set: Average loss: 0.256478, Accuracy: 4144/4605 (90%\n",
      ")\n",
      "Epoch: 2\n",
      "Training set [0/10745 (0%)] Loss: 0.199944\n",
      "Training set [500/10745 (5%)] Loss: 0.207529\n",
      "Training set [1000/10745 (9%)] Loss: 0.159383\n",
      "Training set [1500/10745 (14%)] Loss: 0.275893\n",
      "Training set [2000/10745 (19%)] Loss: 0.105337\n",
      "Training set [2500/10745 (23%)] Loss: 0.251940\n",
      "Training set [3000/10745 (28%)] Loss: 0.506211\n",
      "Training set [3500/10745 (33%)] Loss: 0.226229\n",
      "Training set [4000/10745 (37%)] Loss: 0.154883\n",
      "Training set [4500/10745 (42%)] Loss: 0.093040\n",
      "Training set [5000/10745 (47%)] Loss: 0.115600\n",
      "Training set [5500/10745 (51%)] Loss: 0.295240\n",
      "Training set [6000/10745 (56%)] Loss: 0.094997\n",
      "Training set [6500/10745 (60%)] Loss: 0.096842\n",
      "Training set [7000/10745 (65%)] Loss: 0.186787\n",
      "Training set [7500/10745 (70%)] Loss: 0.243448\n",
      "Training set [8000/10745 (74%)] Loss: 0.107615\n",
      "Training set [8500/10745 (79%)] Loss: 0.109441\n",
      "Training set [9000/10745 (84%)] Loss: 0.291483\n",
      "Training set [9500/10745 (88%)] Loss: 0.212877\n",
      "Training set [10000/10745 (93%)] Loss: 0.286467\n",
      "Training set [10500/10745 (98%)] Loss: 0.199867\n",
      "Training set: Average loss: 0.198812\n",
      "Validation set: Average loss: 0.184875, Accuracy: 4295/4605 (93%\n",
      ")\n",
      "Epoch: 3\n",
      "Training set [0/10745 (0%)] Loss: 0.099572\n",
      "Training set [500/10745 (5%)] Loss: 0.193140\n",
      "Training set [1000/10745 (9%)] Loss: 0.112854\n",
      "Training set [1500/10745 (14%)] Loss: 0.217927\n",
      "Training set [2000/10745 (19%)] Loss: 0.087641\n",
      "Training set [2500/10745 (23%)] Loss: 0.254703\n",
      "Training set [3000/10745 (28%)] Loss: 0.471538\n",
      "Training set [3500/10745 (33%)] Loss: 0.162692\n",
      "Training set [4000/10745 (37%)] Loss: 0.111681\n",
      "Training set [4500/10745 (42%)] Loss: 0.082778\n",
      "Training set [5000/10745 (47%)] Loss: 0.112783\n",
      "Training set [5500/10745 (51%)] Loss: 0.253189\n",
      "Training set [6000/10745 (56%)] Loss: 0.071320\n",
      "Training set [6500/10745 (60%)] Loss: 0.075200\n",
      "Training set [7000/10745 (65%)] Loss: 0.140845\n",
      "Training set [7500/10745 (70%)] Loss: 0.271848\n",
      "Training set [8000/10745 (74%)] Loss: 0.080015\n",
      "Training set [8500/10745 (79%)] Loss: 0.128466\n",
      "Training set [9000/10745 (84%)] Loss: 0.246808\n",
      "Training set [9500/10745 (88%)] Loss: 0.136950\n",
      "Training set [10000/10745 (93%)] Loss: 0.182595\n",
      "Training set [10500/10745 (98%)] Loss: 0.136819\n",
      "Training set: Average loss: 0.174237\n",
      "Validation set: Average loss: 0.185896, Accuracy: 4315/4605 (94%\n",
      ")\n",
      "Epoch: 4\n",
      "Training set [0/10745 (0%)] Loss: 0.087693\n",
      "Training set [500/10745 (5%)] Loss: 0.146747\n",
      "Training set [1000/10745 (9%)] Loss: 0.100176\n",
      "Training set [1500/10745 (14%)] Loss: 0.181529\n",
      "Training set [2000/10745 (19%)] Loss: 0.088268\n",
      "Training set [2500/10745 (23%)] Loss: 0.183593\n",
      "Training set [3000/10745 (28%)] Loss: 0.430159\n",
      "Training set [3500/10745 (33%)] Loss: 0.136930\n",
      "Training set [4000/10745 (37%)] Loss: 0.131666\n",
      "Training set [4500/10745 (42%)] Loss: 0.065672\n",
      "Training set [5000/10745 (47%)] Loss: 0.095463\n",
      "Training set [5500/10745 (51%)] Loss: 0.202740\n",
      "Training set [6000/10745 (56%)] Loss: 0.051334\n",
      "Training set [6500/10745 (60%)] Loss: 0.055449\n",
      "Training set [7000/10745 (65%)] Loss: 0.132835\n",
      "Training set [7500/10745 (70%)] Loss: 0.251198\n",
      "Training set [8000/10745 (74%)] Loss: 0.077997\n",
      "Training set [8500/10745 (79%)] Loss: 0.127891\n",
      "Training set [9000/10745 (84%)] Loss: 0.198770\n",
      "Training set [9500/10745 (88%)] Loss: 0.106365\n",
      "Training set [10000/10745 (93%)] Loss: 0.174182\n",
      "Training set [10500/10745 (98%)] Loss: 0.119705\n",
      "Training set: Average loss: 0.151958\n",
      "Validation set: Average loss: 0.168148, Accuracy: 4354/4605 (95%\n",
      ")\n",
      "Epoch: 5\n",
      "Training set [0/10745 (0%)] Loss: 0.055711\n",
      "Training set [500/10745 (5%)] Loss: 0.125015\n",
      "Training set [1000/10745 (9%)] Loss: 0.075644\n",
      "Training set [1500/10745 (14%)] Loss: 0.156645\n",
      "Training set [2000/10745 (19%)] Loss: 0.074882\n",
      "Training set [2500/10745 (23%)] Loss: 0.131926\n",
      "Training set [3000/10745 (28%)] Loss: 0.179095\n",
      "Training set [3500/10745 (33%)] Loss: 0.192031\n",
      "Training set [4000/10745 (37%)] Loss: 0.105472\n",
      "Training set [4500/10745 (42%)] Loss: 0.066299\n",
      "Training set [5000/10745 (47%)] Loss: 0.078859\n",
      "Training set [5500/10745 (51%)] Loss: 0.192761\n",
      "Training set [6000/10745 (56%)] Loss: 0.064061\n",
      "Training set [6500/10745 (60%)] Loss: 0.036454\n",
      "Training set [7000/10745 (65%)] Loss: 0.103545\n",
      "Training set [7500/10745 (70%)] Loss: 0.208469\n",
      "Training set [8000/10745 (74%)] Loss: 0.057410\n",
      "Training set [8500/10745 (79%)] Loss: 0.163342\n",
      "Training set [9000/10745 (84%)] Loss: 0.115618\n",
      "Training set [9500/10745 (88%)] Loss: 0.108830\n",
      "Training set [10000/10745 (93%)] Loss: 0.120657\n",
      "Training set [10500/10745 (98%)] Loss: 0.105245\n",
      "Training set: Average loss: 0.135768\n",
      "Validation set: Average loss: 0.164662, Accuracy: 4369/4605 (95%\n",
      ")\n"
     ]
    }
   ],
   "source": [
    "# Get CPU or GPU device for training\n",
    "device = \"cuda\" if torch.cuda.is_available() else \"cpu\"\n",
    "print(f\"Using {device} device!\") \n",
    "\n",
    "# Create an instance of the model class and allocate it to the device\n",
    "model = Net(num_classes=len(classes)).to(device)\n",
    "\n",
    "# Use an \"Adam\" optimizer to adjust weights, \n",
    "# and weight decay for L2 regularization to avoid overfitting\n",
    "# (see https://pytorch.org/docs/stable/optim.html#algorithms for details of supported algorithms)\n",
    "optimizer = optim.Adam(model.parameters(), lr=0.001, weight_decay=1e-5)\n",
    "# optimizer = optim.SGD(model.parameters(), lr=0.001, weight_decay=1e-5)\n",
    "\n",
    "# Specify the loss criteria\n",
    "loss_criteria = nn.CrossEntropyLoss()\n",
    "\n",
    "# Track metrics in these arrays\n",
    "epoch_nums = []\n",
    "training_loss = []\n",
    "validation_loss = []\n",
    "\n",
    "# Training over 5 epochs (in a real scenario, you'd likely to use many more)\n",
    "epochs = 5\n",
    "for epoch in range(1, epochs + 1):\n",
    "    train_loss = train(model, device, train_loader, optimizer, epoch)\n",
    "    test_loss = test(model, device, test_loader)\n",
    "    epoch_nums.append(epoch)\n",
    "    training_loss.append(train_loss)\n",
    "    validation_loss.append(test_loss)"
   ],
   "metadata": {
    "collapsed": false,
    "ExecuteTime": {
     "end_time": "2023-09-15T22:56:49.983066700Z",
     "start_time": "2023-09-15T22:43:10.447013700Z"
    }
   },
   "id": "86d0cabfa952ad2f"
  },
  {
   "cell_type": "code",
   "execution_count": 7,
   "outputs": [
    {
     "data": {
      "text/plain": "<Figure size 640x480 with 1 Axes>",
      "image/png": "[encoded data removed]"
     },
     "metadata": {},
     "output_type": "display_data"
    }
   ],
   "source": [
    "# Plot to view the history loss\n",
    "plt.plot(epoch_nums, training_loss)\n",
    "plt.plot(epoch_nums, validation_loss)\n",
    "plt.title(\"Training V Validation Loss\")\n",
    "plt.xlabel('epoch')\n",
    "plt.ylabel('loss')\n",
    "plt.legend(['training', 'validation'], loc='upper right')\n",
    "plt.show()"
   ],
   "metadata": {
    "collapsed": false,
    "ExecuteTime": {
     "end_time": "2023-09-15T22:56:50.202349300Z",
     "start_time": "2023-09-15T22:56:49.972551600Z"
    }
   },
   "id": "bcf852c577477d63"
  },
  {
   "cell_type": "code",
   "execution_count": 8,
   "outputs": [
    {
     "name": "stdout",
     "output_type": "stream",
     "text": [
      "Getting  predictions from test set...\n"
     ]
    },
    {
     "data": {
      "text/plain": "<Figure size 640x480 with 2 Axes>",
      "image/png": "[encoded data removed]"
     },
     "metadata": {},
     "output_type": "display_data"
    }
   ],
   "source": [
    "# Evaluate the model performance\n",
    "# Using Scikit-learn confusion matrix since Pytorch doesn't have an inbuilt method for that.\n",
    "from sklearn.metrics import (confusion_matrix, \n",
    "                             ConfusionMatrixDisplay) \n",
    "\n",
    "# Set the model to evaluate mode\n",
    "model.eval()\n",
    "\n",
    "# Get predictions for the test data and convert to numpy arrays for use with Scikit-learn\n",
    "print(\"Getting  predictions from test set...\")\n",
    "true_labels = []\n",
    "predictions = []\n",
    "\n",
    "\n",
    "for data, target in test_loader:\n",
    "    for label in target.cpu().data.numpy():\n",
    "        true_labels.append(label)\n",
    "    for prediction in model.cpu()(data).data.numpy().argmax(1):\n",
    "        predictions.append(prediction)\n",
    "                \n",
    "# Plot the confusion matrix\n",
    "cm = confusion_matrix(true_labels, predictions)\n",
    "# plt.imshow(cm, interpolation=\"nearest\", cmap=plt.cm.Blues)\n",
    "ConfusionMatrixDisplay(cm).plot(cmap=plt.cm.Blues)\n",
    "# plt.colorbar()\n",
    "tick_marks = np.arange(len(classes))\n",
    "plt.xticks(tick_marks, classes, rotation=45)\n",
    "plt.yticks(tick_marks, classes)\n",
    "plt.xlabel(\"Predicted Maize Disease Status\")\n",
    "plt.ylabel(\"Actual Maize Disease Status\")\n",
    "plt.show()"
   ],
   "metadata": {
    "collapsed": false,
    "ExecuteTime": {
     "end_time": "2023-09-15T22:57:33.888189200Z",
     "start_time": "2023-09-15T22:56:50.202349300Z"
    }
   },
   "id": "7e89548fa7423e7d"
  },
  {
   "cell_type": "code",
   "execution_count": 9,
   "outputs": [
    {
     "name": "stdout",
     "output_type": "stream",
     "text": [
      "Folder 'C:\\Users\\Evan\\Documents\\Evan\\Data_Science\\Maize_Leaf_Disease_Detection\\models' already exists!\n",
      "Model saved as C:\\Users\\Evan\\Documents\\Evan\\Data_Science\\Maize_Leaf_Disease_Detection\\models\\maize_classifier.pt\n"
     ]
    }
   ],
   "source": [
    "# Save the trained model\n",
    "\n",
    "# Check if the models folder exists\n",
    "models_folder_path = Path(\"__file__\").cwd().parent / \"models\"\n",
    "if not models_folder_path.exists():\n",
    "    # If it doesn't exist, create it\n",
    "    models_folder_path.mkdir(parents=True)\n",
    "    print(f\"Folder '{models_folder_path}' created!\")\n",
    "else:\n",
    "    print(f\"Folder '{models_folder_path}' already exists!\")\n",
    "\n",
    "# Define the model file path\n",
    "model_file_path =  models_folder_path / \"maize_classifier.pt\"\n",
    "torch.save(model.state_dict(), \n",
    "          model_file_path)\n",
    "del model\n",
    "\n",
    "print(f\"Model saved as {model_file_path}\")"
   ],
   "metadata": {
    "collapsed": false,
    "ExecuteTime": {
     "end_time": "2023-09-15T22:57:33.904148Z",
     "start_time": "2023-09-15T22:57:33.888189200Z"
    }
   },
   "id": "12ca94cbe93d1bf4"
  },
  {
   "cell_type": "code",
   "execution_count": 9,
   "outputs": [],
   "source": [],
   "metadata": {
    "collapsed": false,
    "ExecuteTime": {
     "end_time": "2023-09-15T22:57:33.904148Z",
     "start_time": "2023-09-15T22:57:33.904148Z"
    }
   },
   "id": "ecd3e66e282b9e67"
  }
 ],
 "metadata": {
  "kernelspec": {
   "display_name": "Python 3",
   "language": "python",
   "name": "python3"
  },
  "language_info": {
   "codemirror_mode": {
    "name": "ipython",
    "version": 2
   },
   "file_extension": ".py",
   "mimetype": "text/x-python",
   "name": "python",
   "nbconvert_exporter": "python",
   "pygments_lexer": "ipython2",
   "version": "2.7.6"
  }
 },
 "nbformat": 4,
 "nbformat_minor": 5
}
